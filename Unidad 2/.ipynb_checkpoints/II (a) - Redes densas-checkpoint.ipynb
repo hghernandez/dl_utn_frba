{
 "cells": [
  {
   "cell_type": "markdown",
   "metadata": {},
   "source": [
    "# II - Redes Densas"
   ]
  },
  {
   "cell_type": "markdown",
   "metadata": {},
   "source": [
    "## Importar librerias"
   ]
  },
  {
   "cell_type": "code",
   "execution_count": 1,
   "metadata": {},
   "outputs": [],
   "source": [
    "import numpy as np\n",
    "import time\n",
    "import matplotlib.pyplot as plt\n",
    "\n",
    "import tensorflow as tf"
   ]
  },
  {
   "cell_type": "code",
   "execution_count": 2,
   "metadata": {},
   "outputs": [],
   "source": [
    "from tensorflow.keras.models import Model\n",
    "from tensorflow.keras.layers import Input, Dense, Dropout, Flatten\n",
    "from tensorflow.keras.layers import Conv2D, MaxPooling2D\n",
    "\n",
    "from tensorflow.keras.metrics import MSE\n",
    "from tensorflow.keras.optimizers import Adadelta\n",
    "from tensorflow.keras.losses import categorical_crossentropy\n",
    "\n",
    "from tensorflow.keras.utils import to_categorical\n",
    "from tensorflow.keras.datasets import mnist"
   ]
  },
  {
   "cell_type": "markdown",
   "metadata": {},
   "source": [
    "## Parametros de entrenamiento"
   ]
  },
  {
   "cell_type": "markdown",
   "metadata": {},
   "source": [
    "Documentacion piola que explica la diferencia entre:\n",
    " - Epochs\n",
    " - Lote\n",
    " - Muestra\n",
    " \n",
    "[link](https://machinelearningmastery.com/difference-between-a-batch-and-an-epoch/)\n",
    "\n",
    "**Una muestra** es 1 fila de datos\n",
    "\n",
    "**Lote** representa la cantidad de muestras para trabajar antes de actualizar los parámetros del modelo interno\n",
    "\n",
    "**Epoca** representa la cantidad de veces que el algoritmo de aprendizaje funcionará en todo el conjunto de datos de entrenamiento.\n",
    "\n",
    "Un ejemplo:\n",
    "\n",
    "Dataset: 200 filas\n",
    "\n",
    "Lote: 5\n",
    "\n",
    "Epocas: 1000\n",
    "\n",
    "Esto significa que el conjunto de datos se dividirá en **40 lotes**, cada uno con cinco muestras. **Los pesos del modelo** se actualizarán después de cada lote de cinco muestras.\n",
    "\n",
    "Esto también significa que una época implicará 40 lotes o **40 actualizaciones del modelo.**\n",
    "\n",
    "Con 1000 épocas, **el modelo estará expuesto o pasará por todo el conjunto de datos 1000 veces**. Eso es un total de 40.000 lotes durante todo el proceso de formación."
   ]
  },
  {
   "cell_type": "code",
   "execution_count": 3,
   "metadata": {
    "scrolled": true
   },
   "outputs": [],
   "source": [
    "lr = 1.0 #Learning rate\n",
    "epochs = 30 # El total de ejemplos de entrenamiento en cada iteración\n",
    "batch_size = 256 # La red va a ver 256 ejemplos hacia adelante y luego se va a retropropagar\n",
    "np.random.seed(14) #Instancio una semilla\n"
   ]
  },
  {
   "cell_type": "code",
   "execution_count": 4,
   "metadata": {},
   "outputs": [
    {
     "data": {
      "text/plain": [
       "[PhysicalDevice(name='/physical_device:CPU:0', device_type='CPU')]"
      ]
     },
     "execution_count": 4,
     "metadata": {},
     "output_type": "execute_result"
    }
   ],
   "source": [
    "tf.config.list_physical_devices(\n",
    "    device_type=None\n",
    ")"
   ]
  },
  {
   "cell_type": "markdown",
   "metadata": {},
   "source": [
    "## Cargar y visualizar el dataset"
   ]
  },
  {
   "cell_type": "code",
   "execution_count": 5,
   "metadata": {},
   "outputs": [
    {
     "data": {
      "text/plain": [
       "10"
      ]
     },
     "execution_count": 5,
     "metadata": {},
     "output_type": "execute_result"
    }
   ],
   "source": [
    "(x_train, y_train), (x_test, y_test) = mnist.load_data()\n",
    "n_classes = np.max(np.unique(y_train)) + 1\n",
    "n_classes"
   ]
  },
  {
   "cell_type": "code",
   "execution_count": 6,
   "metadata": {},
   "outputs": [
    {
     "data": {
      "text/plain": [
       "array([[[0, 0, 0, ..., 0, 0, 0],\n",
       "        [0, 0, 0, ..., 0, 0, 0],\n",
       "        [0, 0, 0, ..., 0, 0, 0],\n",
       "        ...,\n",
       "        [0, 0, 0, ..., 0, 0, 0],\n",
       "        [0, 0, 0, ..., 0, 0, 0],\n",
       "        [0, 0, 0, ..., 0, 0, 0]],\n",
       "\n",
       "       [[0, 0, 0, ..., 0, 0, 0],\n",
       "        [0, 0, 0, ..., 0, 0, 0],\n",
       "        [0, 0, 0, ..., 0, 0, 0],\n",
       "        ...,\n",
       "        [0, 0, 0, ..., 0, 0, 0],\n",
       "        [0, 0, 0, ..., 0, 0, 0],\n",
       "        [0, 0, 0, ..., 0, 0, 0]],\n",
       "\n",
       "       [[0, 0, 0, ..., 0, 0, 0],\n",
       "        [0, 0, 0, ..., 0, 0, 0],\n",
       "        [0, 0, 0, ..., 0, 0, 0],\n",
       "        ...,\n",
       "        [0, 0, 0, ..., 0, 0, 0],\n",
       "        [0, 0, 0, ..., 0, 0, 0],\n",
       "        [0, 0, 0, ..., 0, 0, 0]],\n",
       "\n",
       "       ...,\n",
       "\n",
       "       [[0, 0, 0, ..., 0, 0, 0],\n",
       "        [0, 0, 0, ..., 0, 0, 0],\n",
       "        [0, 0, 0, ..., 0, 0, 0],\n",
       "        ...,\n",
       "        [0, 0, 0, ..., 0, 0, 0],\n",
       "        [0, 0, 0, ..., 0, 0, 0],\n",
       "        [0, 0, 0, ..., 0, 0, 0]],\n",
       "\n",
       "       [[0, 0, 0, ..., 0, 0, 0],\n",
       "        [0, 0, 0, ..., 0, 0, 0],\n",
       "        [0, 0, 0, ..., 0, 0, 0],\n",
       "        ...,\n",
       "        [0, 0, 0, ..., 0, 0, 0],\n",
       "        [0, 0, 0, ..., 0, 0, 0],\n",
       "        [0, 0, 0, ..., 0, 0, 0]],\n",
       "\n",
       "       [[0, 0, 0, ..., 0, 0, 0],\n",
       "        [0, 0, 0, ..., 0, 0, 0],\n",
       "        [0, 0, 0, ..., 0, 0, 0],\n",
       "        ...,\n",
       "        [0, 0, 0, ..., 0, 0, 0],\n",
       "        [0, 0, 0, ..., 0, 0, 0],\n",
       "        [0, 0, 0, ..., 0, 0, 0]]], dtype=uint8)"
      ]
     },
     "execution_count": 6,
     "metadata": {},
     "output_type": "execute_result"
    }
   ],
   "source": [
    "x_train"
   ]
  },
  {
   "cell_type": "code",
   "execution_count": 7,
   "metadata": {},
   "outputs": [
    {
     "data": {
      "image/png": "[encoded data removed]",
      "text/plain": [
       "<Figure size 540x720 with 25 Axes>"
      ]
     },
     "metadata": {
      "needs_background": "light"
     },
     "output_type": "display_data"
    }
   ],
   "source": [
    "num = 25\n",
    "images = x_train[:num]\n",
    "labels = y_train[:num]\n",
    "num_row = 5\n",
    "num_col = 5\n",
    "fig, axes = plt.subplots(num_row, num_col, figsize=(1.5*num_col,2*num_row))\n",
    "for i in range(num):\n",
    "    ax = axes[i//num_col, i%num_col]\n",
    "    ax.imshow(images[i], cmap='gray')\n",
    "    ax.set_title('Label: {}'.format(labels[i]))\n",
    "    ax.axis('off')\n",
    "plt.tight_layout()\n",
    "plt.show()"
   ]
  },
  {
   "cell_type": "markdown",
   "metadata": {},
   "source": [
    "## Preparacion de los datos"
   ]
  },
  {
   "cell_type": "code",
   "execution_count": 8,
   "metadata": {},
   "outputs": [],
   "source": [
    "#Convertimos los pixeles a decimales\n",
    "#Luego al dividirlo dejamos todo en un rango del 0 a 1\n",
    "\n",
    "x_train = x_train.astype('float32') / 255.0\n",
    "x_test = x_test.astype('float32') / 255.0"
   ]
  },
  {
   "cell_type": "code",
   "execution_count": 9,
   "metadata": {},
   "outputs": [
    {
     "data": {
      "text/plain": [
       "7"
      ]
     },
     "execution_count": 9,
     "metadata": {},
     "output_type": "execute_result"
    }
   ],
   "source": [
    "y_train[123]"
   ]
  },
  {
   "cell_type": "code",
   "execution_count": 10,
   "metadata": {},
   "outputs": [
    {
     "data": {
      "text/plain": [
       "array([0., 0., 0., 0., 0., 0., 0., 1., 0., 0.], dtype=float32)"
      ]
     },
     "execution_count": 10,
     "metadata": {},
     "output_type": "execute_result"
    }
   ],
   "source": [
    "y_train = to_categorical(y_train, n_classes)\n",
    "y_test = to_categorical(y_test, n_classes) #one-hot encoding\n",
    "\n",
    "y_train[123,:]"
   ]
  },
  {
   "cell_type": "code",
   "execution_count": 11,
   "metadata": {},
   "outputs": [],
   "source": [
    "x_train.shape = (x_train.shape[0], np.prod(x_train.shape[1:]))\n",
    "x_test.shape = (x_test.shape[0], np.prod(x_test.shape[1:]))"
   ]
  },
  {
   "cell_type": "code",
   "execution_count": 12,
   "metadata": {},
   "outputs": [
    {
     "data": {
      "text/plain": [
       "(60000, 784)"
      ]
     },
     "execution_count": 12,
     "metadata": {},
     "output_type": "execute_result"
    }
   ],
   "source": [
    "x_train.shape"
   ]
  },
  {
   "cell_type": "markdown",
   "metadata": {},
   "source": [
    "## Crear el modelo"
   ]
  },
  {
   "cell_type": "code",
   "execution_count": 13,
   "metadata": {},
   "outputs": [],
   "source": [
    "# Model\n",
    "#---------------------------------------------------------------------#\n",
    "input_layer = Input(shape=x_train.shape[1:])\n",
    "dense_1 = Dense(500, activation='relu') (input_layer)\n",
    "dropout_1 = Dropout(0.25) (dense_1) # ctrl + / Dropout desconecta un 25% de las conexiones\n",
    "dense_2 = Dense(500, activation='relu') (dropout_1)\n",
    "dropout_2 = Dropout(0.25) (dense_2)\n",
    "dense_3 = Dense(100, activation='relu') (dropout_2)\n",
    "dropout_3 = Dropout(0.25) (dense_3)\n",
    "output_layer = Dense(n_classes, activation='softmax') (dropout_3)\n",
    "#---------------------------------------------------------------------#\n",
    "model = Model(input_layer, output_layer)"
   ]
  },
  {
   "cell_type": "code",
   "execution_count": 14,
   "metadata": {},
   "outputs": [
    {
     "name": "stdout",
     "output_type": "stream",
     "text": [
      "Model: \"model\"\n",
      "_________________________________________________________________\n",
      " Layer (type)                Output Shape              Param #   \n",
      "=================================================================\n",
      " input_1 (InputLayer)        [(None, 784)]             0         \n",
      "                                                                 \n",
      " dense (Dense)               (None, 500)               392500    \n",
      "                                                                 \n",
      " dropout (Dropout)           (None, 500)               0         \n",
      "                                                                 \n",
      " dense_1 (Dense)             (None, 500)               250500    \n",
      "                                                                 \n",
      " dropout_1 (Dropout)         (None, 500)               0         \n",
      "                                                                 \n",
      " dense_2 (Dense)             (None, 100)               50100     \n",
      "                                                                 \n",
      " dropout_2 (Dropout)         (None, 100)               0         \n",
      "                                                                 \n",
      " dense_3 (Dense)             (None, 10)                1010      \n",
      "                                                                 \n",
      "=================================================================\n",
      "Total params: 694,110\n",
      "Trainable params: 694,110\n",
      "Non-trainable params: 0\n",
      "_________________________________________________________________\n"
     ]
    }
   ],
   "source": [
    "Adadelta_optimizer = Adadelta(learning_rate=lr, rho=0.95)\n",
    "model.compile(optimizer=Adadelta_optimizer, loss='categorical_crossentropy', metrics=['acc', 'mse'])\n",
    "model.summary()"
   ]
  },
  {
   "cell_type": "markdown",
   "metadata": {},
   "source": [
    "## Entrenar el modelo"
   ]
  },
  {
   "cell_type": "code",
   "execution_count": 15,
   "metadata": {},
   "outputs": [
    {
     "name": "stdout",
     "output_type": "stream",
     "text": [
      "Epoch 1/30\n",
      "235/235 [==============================] - 18s 58ms/step - loss: 0.4203 - acc: 0.8689 - mse: 0.0188 - val_loss: 0.1936 - val_acc: 0.9399 - val_mse: 0.0091\n",
      "Epoch 2/30\n",
      "235/235 [==============================] - 15s 65ms/step - loss: 0.1597 - acc: 0.9524 - mse: 0.0073 - val_loss: 0.1114 - val_acc: 0.9636 - val_mse: 0.0053\n",
      "Epoch 3/30\n",
      "235/235 [==============================] - 14s 60ms/step - loss: 0.1144 - acc: 0.9661 - mse: 0.0052 - val_loss: 0.0840 - val_acc: 0.9726 - val_mse: 0.0041\n",
      "Epoch 4/30\n",
      "235/235 [==============================] - 13s 55ms/step - loss: 0.0912 - acc: 0.9732 - mse: 0.0042 - val_loss: 0.0752 - val_acc: 0.9762 - val_mse: 0.0036\n",
      "Epoch 5/30\n",
      "235/235 [==============================] - 11s 47ms/step - loss: 0.0744 - acc: 0.9773 - mse: 0.0035 - val_loss: 0.0899 - val_acc: 0.9717 - val_mse: 0.0043\n",
      "Epoch 6/30\n",
      "235/235 [==============================] - 11s 46ms/step - loss: 0.0621 - acc: 0.9813 - mse: 0.0029 - val_loss: 0.0631 - val_acc: 0.9808 - val_mse: 0.0029\n",
      "Epoch 7/30\n",
      "235/235 [==============================] - 12s 51ms/step - loss: 0.0533 - acc: 0.9837 - mse: 0.0025 - val_loss: 0.0688 - val_acc: 0.9805 - val_mse: 0.0030\n",
      "Epoch 8/30\n",
      "235/235 [==============================] - 13s 54ms/step - loss: 0.0468 - acc: 0.9853 - mse: 0.0023 - val_loss: 0.0655 - val_acc: 0.9807 - val_mse: 0.0029\n",
      "Epoch 9/30\n",
      "235/235 [==============================] - 11s 45ms/step - loss: 0.0424 - acc: 0.9867 - mse: 0.0020 - val_loss: 0.0634 - val_acc: 0.9827 - val_mse: 0.0028\n",
      "Epoch 10/30\n",
      "235/235 [==============================] - 12s 51ms/step - loss: 0.0362 - acc: 0.9890 - mse: 0.0017 - val_loss: 0.0616 - val_acc: 0.9821 - val_mse: 0.0028\n",
      "Epoch 11/30\n",
      "235/235 [==============================] - 11s 48ms/step - loss: 0.0330 - acc: 0.9896 - mse: 0.0016 - val_loss: 0.0663 - val_acc: 0.9827 - val_mse: 0.0028\n",
      "Epoch 12/30\n",
      "235/235 [==============================] - 11s 47ms/step - loss: 0.0291 - acc: 0.9909 - mse: 0.0014 - val_loss: 0.0665 - val_acc: 0.9819 - val_mse: 0.0027\n",
      "Epoch 13/30\n",
      "235/235 [==============================] - 14s 61ms/step - loss: 0.0255 - acc: 0.9916 - mse: 0.0013 - val_loss: 0.0643 - val_acc: 0.9836 - val_mse: 0.0025\n",
      "Epoch 14/30\n",
      "235/235 [==============================] - 12s 50ms/step - loss: 0.0243 - acc: 0.9921 - mse: 0.0012 - val_loss: 0.0671 - val_acc: 0.9844 - val_mse: 0.0026\n",
      "Epoch 15/30\n",
      "235/235 [==============================] - 11s 48ms/step - loss: 0.0227 - acc: 0.9928 - mse: 0.0011 - val_loss: 0.0614 - val_acc: 0.9846 - val_mse: 0.0025\n",
      "Epoch 16/30\n",
      "235/235 [==============================] - 13s 54ms/step - loss: 0.0199 - acc: 0.9931 - mse: 0.0010 - val_loss: 0.0626 - val_acc: 0.9844 - val_mse: 0.0026\n",
      "Epoch 17/30\n",
      "235/235 [==============================] - 12s 52ms/step - loss: 0.0180 - acc: 0.9941 - mse: 9.0605e-04 - val_loss: 0.0713 - val_acc: 0.9831 - val_mse: 0.0028\n",
      "Epoch 18/30\n",
      "235/235 [==============================] - 11s 45ms/step - loss: 0.0160 - acc: 0.9947 - mse: 8.0281e-04 - val_loss: 0.0645 - val_acc: 0.9848 - val_mse: 0.0025\n",
      "Epoch 19/30\n",
      "235/235 [==============================] - 11s 47ms/step - loss: 0.0172 - acc: 0.9945 - mse: 8.6506e-04 - val_loss: 0.0661 - val_acc: 0.9840 - val_mse: 0.0026\n",
      "Epoch 20/30\n",
      "235/235 [==============================] - 11s 46ms/step - loss: 0.0153 - acc: 0.9952 - mse: 7.7035e-04 - val_loss: 0.0640 - val_acc: 0.9849 - val_mse: 0.0025\n",
      "Epoch 21/30\n",
      "235/235 [==============================] - 10s 44ms/step - loss: 0.0137 - acc: 0.9955 - mse: 6.8509e-04 - val_loss: 0.0688 - val_acc: 0.9840 - val_mse: 0.0027\n",
      "Epoch 22/30\n",
      "235/235 [==============================] - 10s 44ms/step - loss: 0.0137 - acc: 0.9958 - mse: 6.7166e-04 - val_loss: 0.0668 - val_acc: 0.9842 - val_mse: 0.0025\n",
      "Epoch 23/30\n",
      "235/235 [==============================] - 11s 45ms/step - loss: 0.0124 - acc: 0.9961 - mse: 6.2344e-04 - val_loss: 0.0713 - val_acc: 0.9853 - val_mse: 0.0024\n",
      "Epoch 24/30\n",
      "235/235 [==============================] - 10s 44ms/step - loss: 0.0119 - acc: 0.9961 - mse: 6.0465e-04 - val_loss: 0.0696 - val_acc: 0.9849 - val_mse: 0.0024\n",
      "Epoch 25/30\n",
      "235/235 [==============================] - 11s 46ms/step - loss: 0.0108 - acc: 0.9964 - mse: 5.3780e-04 - val_loss: 0.0732 - val_acc: 0.9850 - val_mse: 0.0025\n",
      "Epoch 26/30\n",
      "235/235 [==============================] - 10s 44ms/step - loss: 0.0096 - acc: 0.9967 - mse: 4.9241e-04 - val_loss: 0.0738 - val_acc: 0.9848 - val_mse: 0.0026\n",
      "Epoch 27/30\n",
      "235/235 [==============================] - 10s 42ms/step - loss: 0.0098 - acc: 0.9965 - mse: 5.1527e-04 - val_loss: 0.0784 - val_acc: 0.9850 - val_mse: 0.0025\n",
      "Epoch 28/30\n",
      "235/235 [==============================] - 10s 42ms/step - loss: 0.0081 - acc: 0.9974 - mse: 4.1112e-04 - val_loss: 0.0774 - val_acc: 0.9851 - val_mse: 0.0025\n",
      "Epoch 29/30\n",
      "235/235 [==============================] - 10s 43ms/step - loss: 0.0099 - acc: 0.9970 - mse: 4.9939e-04 - val_loss: 0.0720 - val_acc: 0.9849 - val_mse: 0.0025\n",
      "Epoch 30/30\n",
      "235/235 [==============================] - 10s 42ms/step - loss: 0.0090 - acc: 0.9973 - mse: 4.4843e-04 - val_loss: 0.0717 - val_acc: 0.9849 - val_mse: 0.0025\n",
      "\n",
      "Elapsed Dense Model training time: 349.70681 seconds\n"
     ]
    }
   ],
   "source": [
    "start_time = time.time()\n",
    "history = model.fit(x_train, y_train, epochs=epochs, batch_size=batch_size, validation_data=(x_test, y_test), shuffle=True, verbose=1)\n",
    "end_time = time.time()\n",
    "print('\\nElapsed Dense Model training time: {:.5f} seconds'.format(end_time-start_time))"
   ]
  },
  {
   "cell_type": "markdown",
   "metadata": {},
   "source": [
    "## Evaluar el proceso de entrenamiento"
   ]
  },
  {
   "cell_type": "code",
   "execution_count": 16,
   "metadata": {},
   "outputs": [
    {
     "data": {
      "text/plain": [
       "dict_keys(['loss', 'acc', 'mse', 'val_loss', 'val_acc', 'val_mse'])"
      ]
     },
     "execution_count": 16,
     "metadata": {},
     "output_type": "execute_result"
    }
   ],
   "source": [
    "history.history.keys()"
   ]
  },
  {
   "cell_type": "code",
   "execution_count": 17,
   "metadata": {},
   "outputs": [
    {
     "data": {
      "image/png": "[encoded data removed]",
      "text/plain": [
       "<Figure size 720x720 with 1 Axes>"
      ]
     },
     "metadata": {
      "needs_background": "light"
     },
     "output_type": "display_data"
    }
   ],
   "source": [
    "f = plt.figure(figsize=(10,10))\n",
    "plt.plot(history.history['mse'], linewidth=3, label='Train MSE')\n",
    "plt.plot(history.history['val_mse'], linewidth=3, label='Val MSE')\n",
    "plt.xlabel('Epochs')\n",
    "plt.ylabel('MSE')\n",
    "plt.axis([0, 30, 0, 0.02])\n",
    "plt.legend(loc='upper right')\n",
    "plt.show()"
   ]
  },
  {
   "cell_type": "code",
   "execution_count": 18,
   "metadata": {},
   "outputs": [
    {
     "data": {
      "text/plain": [
       "<matplotlib.legend.Legend at 0x2c11b59caf0>"
      ]
     },
     "execution_count": 18,
     "metadata": {},
     "output_type": "execute_result"
    },
    {
     "data": {
      "image/png": "[encoded data removed]",
      "text/plain": [
       "<Figure size 720x720 with 1 Axes>"
      ]
     },
     "metadata": {
      "needs_background": "light"
     },
     "output_type": "display_data"
    }
   ],
   "source": [
    "f = plt.figure(figsize=(10,10))\n",
    "plt.plot(history.history['acc'], linewidth=3, label='Train Accuracy')\n",
    "plt.plot(history.history['val_acc'], linewidth=3, label='Val Accuracy')\n",
    "plt.xlabel('Epochs')\n",
    "plt.ylabel('Accuracy')\n",
    "plt.axis([0, 30, 0.75, 1])\n",
    "plt.legend(loc='lower right')"
   ]
  },
  {
   "cell_type": "code",
   "execution_count": 19,
   "metadata": {},
   "outputs": [
    {
     "data": {
      "text/plain": [
       "<matplotlib.legend.Legend at 0x2c11b634d90>"
      ]
     },
     "execution_count": 19,
     "metadata": {},
     "output_type": "execute_result"
    },
    {
     "data": {
      "image/png": "[encoded data removed]",
      "text/plain": [
       "<Figure size 720x720 with 1 Axes>"
      ]
     },
     "metadata": {
      "needs_background": "light"
     },
     "output_type": "display_data"
    }
   ],
   "source": [
    "f = plt.figure(figsize=(10,10))\n",
    "plt.plot(history.history['loss'], linewidth=3, label='Train loss')\n",
    "plt.plot(history.history['val_loss'], linewidth=3, label='Val loss')\n",
    "plt.xlabel('Epochs')\n",
    "plt.ylabel('Loss')\n",
    "plt.axis([0, 30, 0, 0.5])\n",
    "plt.legend(loc='upper right')"
   ]
  },
  {
   "cell_type": "markdown",
   "metadata": {},
   "source": [
    "## Predicciones sobre una imagen individual"
   ]
  },
  {
   "cell_type": "code",
   "execution_count": 20,
   "metadata": {},
   "outputs": [],
   "source": [
    "x_single_test = x_train[0] # primera imagen del dataset, visualizada arriba\n",
    "y_single_test = y_train[0] # primera etiqueta del dataset, visualizada arriba\n",
    "x_single_test.shape = (1, x_single_test.shape[0])\n",
    "y_single_test.shape = (1, y_single_test.shape[0])"
   ]
  },
  {
   "cell_type": "code",
   "execution_count": 21,
   "metadata": {},
   "outputs": [
    {
     "name": "stdout",
     "output_type": "stream",
     "text": [
      "1/1 [==============================] - 0s 148ms/step\n"
     ]
    },
    {
     "data": {
      "text/plain": [
       "array([[1.21304382e-16, 6.92126749e-13, 8.41384457e-14, 1.62501165e-05,\n",
       "        5.43685633e-17, 9.99983788e-01, 1.03727824e-13, 3.94235615e-13,\n",
       "        5.87340642e-14, 4.42596099e-10]], dtype=float32)"
      ]
     },
     "execution_count": 21,
     "metadata": {},
     "output_type": "execute_result"
    }
   ],
   "source": [
    "model.predict(x_single_test, verbose=1)\n",
    "\n",
    "#El 99,98% de que el valor se trata de un 5"
   ]
  },
  {
   "cell_type": "code",
   "execution_count": 22,
   "metadata": {
    "scrolled": true
   },
   "outputs": [
    {
     "name": "stdout",
     "output_type": "stream",
     "text": [
      "1/1 [==============================] - 0s 40ms/step - loss: 1.6212e-05 - acc: 1.0000 - mse: 5.2691e-11\n"
     ]
    },
    {
     "data": {
      "text/plain": [
       "[1.6212332411669195e-05, 1.0, 5.269102862359709e-11]"
      ]
     },
     "execution_count": 22,
     "metadata": {},
     "output_type": "execute_result"
    }
   ],
   "source": [
    "model.evaluate(x_single_test, y_single_test,verbose=1)"
   ]
  },
  {
   "cell_type": "markdown",
   "metadata": {},
   "source": [
    "## Guardamos el modelo para usarlo en producción"
   ]
  },
  {
   "cell_type": "code",
   "execution_count": 25,
   "metadata": {},
   "outputs": [
    {
     "name": "stderr",
     "output_type": "stream",
     "text": [
      "WARNING:absl:Found untraced functions such as _update_step_xla while saving (showing 1 of 1). These functions will not be directly callable after loading.\n"
     ]
    },
    {
     "name": "stdout",
     "output_type": "stream",
     "text": [
      "INFO:tensorflow:Assets written to: ModelProd.PrimerNN\\assets\n"
     ]
    },
    {
     "name": "stderr",
     "output_type": "stream",
     "text": [
      "INFO:tensorflow:Assets written to: ModelProd.PrimerNN\\assets\n"
     ]
    }
   ],
   "source": [
    "model.save('ModelProd.PrimerNN')"
   ]
  }
 ],
 "metadata": {
  "kernelspec": {
   "display_name": "Python 3",
   "language": "python",
   "name": "python3"
  },
  "language_info": {
   "codemirror_mode": {
    "name": "ipython",
    "version": 3
   },
   "file_extension": ".py",
   "mimetype": "text/x-python",
   "name": "python",
   "nbconvert_exporter": "python",
   "pygments_lexer": "ipython3",
   "version": "3.8.5"
  }
 },
 "nbformat": 4,
 "nbformat_minor": 4
}
