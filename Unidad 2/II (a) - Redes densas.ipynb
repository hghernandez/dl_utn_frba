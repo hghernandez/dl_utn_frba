{
 "cells": [
  {
   "cell_type": "markdown",
   "metadata": {},
   "source": [
    "# II - Redes Densas"
   ]
  },
  {
   "cell_type": "markdown",
   "metadata": {},
   "source": [
    "## Importar librerias"
   ]
  },
  {
   "cell_type": "code",
   "execution_count": 1,
   "metadata": {},
   "outputs": [],
   "source": [
    "import numpy as np\n",
    "import time\n",
    "import matplotlib.pyplot as plt\n",
    "\n",
    "import tensorflow as tf"
   ]
  },
  {
   "cell_type": "code",
   "execution_count": 2,
   "metadata": {},
   "outputs": [],
   "source": [
    "from tensorflow.keras.models import Model\n",
    "from tensorflow.keras.layers import Input, Dense, Dropout, Flatten\n",
    "from tensorflow.keras.layers import Conv2D, MaxPooling2D\n",
    "\n",
    "from tensorflow.keras.metrics import MSE\n",
    "from tensorflow.keras.optimizers import Adadelta\n",
    "from tensorflow.keras.losses import categorical_crossentropy\n",
    "\n",
    "from tensorflow.keras.utils import to_categorical\n",
    "from tensorflow.keras.datasets import mnist"
   ]
  },
  {
   "cell_type": "markdown",
   "metadata": {},
   "source": [
    "## Parametros de entrenamiento"
   ]
  },
  {
   "cell_type": "markdown",
   "metadata": {},
   "source": [
    "Documentacion piola que explica la diferencia entre:\n",
    " - Epochs\n",
    " - Lote\n",
    " - Muestra\n",
    " \n",
    "[link](https://machinelearningmastery.com/difference-between-a-batch-and-an-epoch/)\n",
    "\n",
    "**Una muestra** es 1 fila de datos\n",
    "\n",
    "**Lote** representa la cantidad de muestras para trabajar antes de actualizar los parámetros del modelo interno\n",
    "\n",
    "**Epoca** representa la cantidad de veces que el algoritmo de aprendizaje funcionará en todo el conjunto de datos de entrenamiento.\n",
    "\n",
    "Un ejemplo:\n",
    "\n",
    "Dataset: 200 filas\n",
    "\n",
    "Lote: 5\n",
    "\n",
    "Epocas: 1000\n",
    "\n",
    "Esto significa que el conjunto de datos se dividirá en **40 lotes**, cada uno con cinco muestras. **Los pesos del modelo** se actualizarán después de cada lote de cinco muestras.\n",
    "\n",
    "Esto también significa que una época implicará 40 lotes o **40 actualizaciones del modelo.**\n",
    "\n",
    "Con 1000 épocas, **el modelo estará expuesto o pasará por todo el conjunto de datos 1000 veces**. Eso es un total de 40.000 lotes durante todo el proceso de formación."
   ]
  },
  {
   "cell_type": "code",
   "execution_count": 6,
   "metadata": {
    "scrolled": true
   },
   "outputs": [
    {
     "name": "stdout",
     "output_type": "stream",
     "text": [
      "Downloading data from https://storage.googleapis.com/tensorflow/tf-keras-datasets/mnist.npz\n",
      "11490434/11490434 [==============================] - 1s 0us/step\n"
     ]
    },
    {
     "data": {
      "text/plain": [
       "((array([[[0, 0, 0, ..., 0, 0, 0],\n",
       "          [0, 0, 0, ..., 0, 0, 0],\n",
       "          [0, 0, 0, ..., 0, 0, 0],\n",
       "          ...,\n",
       "          [0, 0, 0, ..., 0, 0, 0],\n",
       "          [0, 0, 0, ..., 0, 0, 0],\n",
       "          [0, 0, 0, ..., 0, 0, 0]],\n",
       "  \n",
       "         [[0, 0, 0, ..., 0, 0, 0],\n",
       "          [0, 0, 0, ..., 0, 0, 0],\n",
       "          [0, 0, 0, ..., 0, 0, 0],\n",
       "          ...,\n",
       "          [0, 0, 0, ..., 0, 0, 0],\n",
       "          [0, 0, 0, ..., 0, 0, 0],\n",
       "          [0, 0, 0, ..., 0, 0, 0]],\n",
       "  \n",
       "         [[0, 0, 0, ..., 0, 0, 0],\n",
       "          [0, 0, 0, ..., 0, 0, 0],\n",
       "          [0, 0, 0, ..., 0, 0, 0],\n",
       "          ...,\n",
       "          [0, 0, 0, ..., 0, 0, 0],\n",
       "          [0, 0, 0, ..., 0, 0, 0],\n",
       "          [0, 0, 0, ..., 0, 0, 0]],\n",
       "  \n",
       "         ...,\n",
       "  \n",
       "         [[0, 0, 0, ..., 0, 0, 0],\n",
       "          [0, 0, 0, ..., 0, 0, 0],\n",
       "          [0, 0, 0, ..., 0, 0, 0],\n",
       "          ...,\n",
       "          [0, 0, 0, ..., 0, 0, 0],\n",
       "          [0, 0, 0, ..., 0, 0, 0],\n",
       "          [0, 0, 0, ..., 0, 0, 0]],\n",
       "  \n",
       "         [[0, 0, 0, ..., 0, 0, 0],\n",
       "          [0, 0, 0, ..., 0, 0, 0],\n",
       "          [0, 0, 0, ..., 0, 0, 0],\n",
       "          ...,\n",
       "          [0, 0, 0, ..., 0, 0, 0],\n",
       "          [0, 0, 0, ..., 0, 0, 0],\n",
       "          [0, 0, 0, ..., 0, 0, 0]],\n",
       "  \n",
       "         [[0, 0, 0, ..., 0, 0, 0],\n",
       "          [0, 0, 0, ..., 0, 0, 0],\n",
       "          [0, 0, 0, ..., 0, 0, 0],\n",
       "          ...,\n",
       "          [0, 0, 0, ..., 0, 0, 0],\n",
       "          [0, 0, 0, ..., 0, 0, 0],\n",
       "          [0, 0, 0, ..., 0, 0, 0]]], dtype=uint8),\n",
       "  array([5, 0, 4, ..., 5, 6, 8], dtype=uint8)),\n",
       " (array([[[0, 0, 0, ..., 0, 0, 0],\n",
       "          [0, 0, 0, ..., 0, 0, 0],\n",
       "          [0, 0, 0, ..., 0, 0, 0],\n",
       "          ...,\n",
       "          [0, 0, 0, ..., 0, 0, 0],\n",
       "          [0, 0, 0, ..., 0, 0, 0],\n",
       "          [0, 0, 0, ..., 0, 0, 0]],\n",
       "  \n",
       "         [[0, 0, 0, ..., 0, 0, 0],\n",
       "          [0, 0, 0, ..., 0, 0, 0],\n",
       "          [0, 0, 0, ..., 0, 0, 0],\n",
       "          ...,\n",
       "          [0, 0, 0, ..., 0, 0, 0],\n",
       "          [0, 0, 0, ..., 0, 0, 0],\n",
       "          [0, 0, 0, ..., 0, 0, 0]],\n",
       "  \n",
       "         [[0, 0, 0, ..., 0, 0, 0],\n",
       "          [0, 0, 0, ..., 0, 0, 0],\n",
       "          [0, 0, 0, ..., 0, 0, 0],\n",
       "          ...,\n",
       "          [0, 0, 0, ..., 0, 0, 0],\n",
       "          [0, 0, 0, ..., 0, 0, 0],\n",
       "          [0, 0, 0, ..., 0, 0, 0]],\n",
       "  \n",
       "         ...,\n",
       "  \n",
       "         [[0, 0, 0, ..., 0, 0, 0],\n",
       "          [0, 0, 0, ..., 0, 0, 0],\n",
       "          [0, 0, 0, ..., 0, 0, 0],\n",
       "          ...,\n",
       "          [0, 0, 0, ..., 0, 0, 0],\n",
       "          [0, 0, 0, ..., 0, 0, 0],\n",
       "          [0, 0, 0, ..., 0, 0, 0]],\n",
       "  \n",
       "         [[0, 0, 0, ..., 0, 0, 0],\n",
       "          [0, 0, 0, ..., 0, 0, 0],\n",
       "          [0, 0, 0, ..., 0, 0, 0],\n",
       "          ...,\n",
       "          [0, 0, 0, ..., 0, 0, 0],\n",
       "          [0, 0, 0, ..., 0, 0, 0],\n",
       "          [0, 0, 0, ..., 0, 0, 0]],\n",
       "  \n",
       "         [[0, 0, 0, ..., 0, 0, 0],\n",
       "          [0, 0, 0, ..., 0, 0, 0],\n",
       "          [0, 0, 0, ..., 0, 0, 0],\n",
       "          ...,\n",
       "          [0, 0, 0, ..., 0, 0, 0],\n",
       "          [0, 0, 0, ..., 0, 0, 0],\n",
       "          [0, 0, 0, ..., 0, 0, 0]]], dtype=uint8),\n",
       "  array([7, 2, 1, ..., 4, 5, 6], dtype=uint8)))"
      ]
     },
     "execution_count": 6,
     "metadata": {},
     "output_type": "execute_result"
    }
   ],
   "source": [
    "lr = 1.0 #Learning rate\n",
    "epochs = 30 # El total de ejemplos de entrenamiento en cada iteración\n",
    "batch_size = 256 # La red va a ver 256 ejemplos hacia adelante y luego se va a retropropagar\n",
    "np.random.seed(14) #Instancio una semilla\n"
   ]
  },
  {
   "cell_type": "code",
   "execution_count": 3,
   "metadata": {},
   "outputs": [
    {
     "data": {
      "text/plain": [
       "[PhysicalDevice(name='/physical_device:CPU:0', device_type='CPU')]"
      ]
     },
     "execution_count": 3,
     "metadata": {},
     "output_type": "execute_result"
    }
   ],
   "source": [
    "tf.config.list_physical_devices(\n",
    "    device_type=None\n",
    ")"
   ]
  },
  {
   "cell_type": "markdown",
   "metadata": {},
   "source": [
    "## Cargar y visualizar el dataset"
   ]
  },
  {
   "cell_type": "code",
   "execution_count": 9,
   "metadata": {},
   "outputs": [
    {
     "data": {
      "text/plain": [
       "10"
      ]
     },
     "execution_count": 9,
     "metadata": {},
     "output_type": "execute_result"
    }
   ],
   "source": [
    "(x_train, y_train), (x_test, y_test) = mnist.load_data()\n",
    "n_classes = np.max(np.unique(y_train)) + 1\n",
    "n_classes"
   ]
  },
  {
   "cell_type": "code",
   "execution_count": 12,
   "metadata": {},
   "outputs": [
    {
     "data": {
      "text/plain": [
       "array([[[0, 0, 0, ..., 0, 0, 0],\n",
       "        [0, 0, 0, ..., 0, 0, 0],\n",
       "        [0, 0, 0, ..., 0, 0, 0],\n",
       "        ...,\n",
       "        [0, 0, 0, ..., 0, 0, 0],\n",
       "        [0, 0, 0, ..., 0, 0, 0],\n",
       "        [0, 0, 0, ..., 0, 0, 0]],\n",
       "\n",
       "       [[0, 0, 0, ..., 0, 0, 0],\n",
       "        [0, 0, 0, ..., 0, 0, 0],\n",
       "        [0, 0, 0, ..., 0, 0, 0],\n",
       "        ...,\n",
       "        [0, 0, 0, ..., 0, 0, 0],\n",
       "        [0, 0, 0, ..., 0, 0, 0],\n",
       "        [0, 0, 0, ..., 0, 0, 0]],\n",
       "\n",
       "       [[0, 0, 0, ..., 0, 0, 0],\n",
       "        [0, 0, 0, ..., 0, 0, 0],\n",
       "        [0, 0, 0, ..., 0, 0, 0],\n",
       "        ...,\n",
       "        [0, 0, 0, ..., 0, 0, 0],\n",
       "        [0, 0, 0, ..., 0, 0, 0],\n",
       "        [0, 0, 0, ..., 0, 0, 0]],\n",
       "\n",
       "       ...,\n",
       "\n",
       "       [[0, 0, 0, ..., 0, 0, 0],\n",
       "        [0, 0, 0, ..., 0, 0, 0],\n",
       "        [0, 0, 0, ..., 0, 0, 0],\n",
       "        ...,\n",
       "        [0, 0, 0, ..., 0, 0, 0],\n",
       "        [0, 0, 0, ..., 0, 0, 0],\n",
       "        [0, 0, 0, ..., 0, 0, 0]],\n",
       "\n",
       "       [[0, 0, 0, ..., 0, 0, 0],\n",
       "        [0, 0, 0, ..., 0, 0, 0],\n",
       "        [0, 0, 0, ..., 0, 0, 0],\n",
       "        ...,\n",
       "        [0, 0, 0, ..., 0, 0, 0],\n",
       "        [0, 0, 0, ..., 0, 0, 0],\n",
       "        [0, 0, 0, ..., 0, 0, 0]],\n",
       "\n",
       "       [[0, 0, 0, ..., 0, 0, 0],\n",
       "        [0, 0, 0, ..., 0, 0, 0],\n",
       "        [0, 0, 0, ..., 0, 0, 0],\n",
       "        ...,\n",
       "        [0, 0, 0, ..., 0, 0, 0],\n",
       "        [0, 0, 0, ..., 0, 0, 0],\n",
       "        [0, 0, 0, ..., 0, 0, 0]]], dtype=uint8)"
      ]
     },
     "execution_count": 12,
     "metadata": {},
     "output_type": "execute_result"
    }
   ],
   "source": [
    "x_train"
   ]
  },
  {
   "cell_type": "code",
   "execution_count": 11,
   "metadata": {},
   "outputs": [
    {
     "data": {
      "image/png": "[encoded data removed]",
      "text/plain": [
       "<Figure size 540x720 with 25 Axes>"
      ]
     },
     "metadata": {
      "needs_background": "light"
     },
     "output_type": "display_data"
    }
   ],
   "source": [
    "num = 25\n",
    "images = x_train[:num]\n",
    "labels = y_train[:num]\n",
    "num_row = 5\n",
    "num_col = 5\n",
    "fig, axes = plt.subplots(num_row, num_col, figsize=(1.5*num_col,2*num_row))\n",
    "for i in range(num):\n",
    "    ax = axes[i//num_col, i%num_col]\n",
    "    ax.imshow(images[i], cmap='gray')\n",
    "    ax.set_title('Label: {}'.format(labels[i]))\n",
    "    ax.axis('off')\n",
    "plt.tight_layout()\n",
    "plt.show()"
   ]
  },
  {
   "cell_type": "markdown",
   "metadata": {},
   "source": [
    "## Preparacion de los datos"
   ]
  },
  {
   "cell_type": "code",
   "execution_count": 13,
   "metadata": {},
   "outputs": [],
   "source": [
    "#Convertimos los pixeles a decimales\n",
    "#Luego al dividirlo dejamos todo en un rango del 0 a 1\n",
    "\n",
    "x_train = x_train.astype('float32') / 255.0\n",
    "x_test = x_test.astype('float32') / 255.0"
   ]
  },
  {
   "cell_type": "code",
   "execution_count": 8,
   "metadata": {},
   "outputs": [
    {
     "data": {
      "text/plain": [
       "7"
      ]
     },
     "execution_count": 8,
     "metadata": {},
     "output_type": "execute_result"
    }
   ],
   "source": [
    "y_train[123]"
   ]
  },
  {
   "cell_type": "code",
   "execution_count": 22,
   "metadata": {},
   "outputs": [
    {
     "data": {
      "text/plain": [
       "array([0., 0., 0., 0., 0., 0., 0., 1., 0., 0.], dtype=float32)"
      ]
     },
     "execution_count": 22,
     "metadata": {},
     "output_type": "execute_result"
    }
   ],
   "source": [
    "y_train = to_categorical(y_train, n_classes)\n",
    "y_test = to_categorical(y_test, n_classes) #one-hot encoding\n",
    "\n",
    "y_train[123,:]"
   ]
  },
  {
   "cell_type": "code",
   "execution_count": 23,
   "metadata": {},
   "outputs": [],
   "source": [
    "x_train.shape = (x_train.shape[0], np.prod(x_train.shape[1:]))\n",
    "x_test.shape = (x_test.shape[0], np.prod(x_test.shape[1:]))"
   ]
  },
  {
   "cell_type": "code",
   "execution_count": 24,
   "metadata": {},
   "outputs": [
    {
     "data": {
      "text/plain": [
       "(60000, 784)"
      ]
     },
     "execution_count": 24,
     "metadata": {},
     "output_type": "execute_result"
    }
   ],
   "source": [
    "x_train.shape"
   ]
  },
  {
   "cell_type": "markdown",
   "metadata": {},
   "source": [
    "## Crear el modelo"
   ]
  },
  {
   "cell_type": "code",
   "execution_count": 25,
   "metadata": {},
   "outputs": [],
   "source": [
    "# Model\n",
    "#---------------------------------------------------------------------#\n",
    "input_layer = Input(shape=x_train.shape[1:])\n",
    "dense_1 = Dense(500, activation='relu') (input_layer)\n",
    "dropout_1 = Dropout(0.25) (dense_1) # ctrl + / Dropout desconecta un 25% de las conexiones\n",
    "dense_2 = Dense(500, activation='relu') (dropout_1)\n",
    "dropout_2 = Dropout(0.25) (dense_2)\n",
    "dense_3 = Dense(100, activation='relu') (dropout_2)\n",
    "dropout_3 = Dropout(0.25) (dense_3)\n",
    "output_layer = Dense(n_classes, activation='softmax') (dropout_3)\n",
    "#---------------------------------------------------------------------#\n",
    "model = Model(input_layer, output_layer)"
   ]
  },
  {
   "cell_type": "code",
   "execution_count": 26,
   "metadata": {},
   "outputs": [
    {
     "name": "stdout",
     "output_type": "stream",
     "text": [
      "Model: \"model_1\"\n",
      "_________________________________________________________________\n",
      " Layer (type)                Output Shape              Param #   \n",
      "=================================================================\n",
      " input_2 (InputLayer)        [(None, 784)]             0         \n",
      "                                                                 \n",
      " dense_4 (Dense)             (None, 500)               392500    \n",
      "                                                                 \n",
      " dropout_3 (Dropout)         (None, 500)               0         \n",
      "                                                                 \n",
      " dense_5 (Dense)             (None, 500)               250500    \n",
      "                                                                 \n",
      " dropout_4 (Dropout)         (None, 500)               0         \n",
      "                                                                 \n",
      " dense_6 (Dense)             (None, 100)               50100     \n",
      "                                                                 \n",
      " dropout_5 (Dropout)         (None, 100)               0         \n",
      "                                                                 \n",
      " dense_7 (Dense)             (None, 10)                1010      \n",
      "                                                                 \n",
      "=================================================================\n",
      "Total params: 694,110\n",
      "Trainable params: 694,110\n",
      "Non-trainable params: 0\n",
      "_________________________________________________________________\n"
     ]
    }
   ],
   "source": [
    "Adadelta_optimizer = Adadelta(learning_rate=lr, rho=0.95)\n",
    "model.compile(optimizer=Adadelta_optimizer, loss='categorical_crossentropy', metrics=['acc', 'mse'])\n",
    "model.summary()"
   ]
  },
  {
   "cell_type": "markdown",
   "metadata": {},
   "source": [
    "## Entrenar el modelo"
   ]
  },
  {
   "cell_type": "code",
   "execution_count": 27,
   "metadata": {},
   "outputs": [
    {
     "name": "stdout",
     "output_type": "stream",
     "text": [
      "Epoch 1/30\n",
      "235/235 [==============================] - 11s 39ms/step - loss: 0.4230 - acc: 0.8688 - mse: 0.0189 - val_loss: 0.1489 - val_acc: 0.9525 - val_mse: 0.0069\n",
      "Epoch 2/30\n",
      "235/235 [==============================] - 10s 44ms/step - loss: 0.1593 - acc: 0.9524 - mse: 0.0073 - val_loss: 0.1058 - val_acc: 0.9675 - val_mse: 0.0050\n",
      "Epoch 3/30\n",
      "235/235 [==============================] - 9s 39ms/step - loss: 0.1165 - acc: 0.9651 - mse: 0.0053 - val_loss: 0.0869 - val_acc: 0.9724 - val_mse: 0.0041\n",
      "Epoch 4/30\n",
      "235/235 [==============================] - 9s 38ms/step - loss: 0.0900 - acc: 0.9732 - mse: 0.0041 - val_loss: 0.0757 - val_acc: 0.9765 - val_mse: 0.0036\n",
      "Epoch 5/30\n",
      "235/235 [==============================] - 11s 46ms/step - loss: 0.0745 - acc: 0.9778 - mse: 0.0035 - val_loss: 0.0677 - val_acc: 0.9802 - val_mse: 0.0031\n",
      "Epoch 6/30\n",
      "235/235 [==============================] - 10s 41ms/step - loss: 0.0625 - acc: 0.9809 - mse: 0.0030 - val_loss: 0.0692 - val_acc: 0.9789 - val_mse: 0.0032\n",
      "Epoch 7/30\n",
      "235/235 [==============================] - 9s 40ms/step - loss: 0.0539 - acc: 0.9839 - mse: 0.0025 - val_loss: 0.0761 - val_acc: 0.9790 - val_mse: 0.0033\n",
      "Epoch 8/30\n",
      "235/235 [==============================] - 9s 37ms/step - loss: 0.0473 - acc: 0.9858 - mse: 0.0022 - val_loss: 0.0584 - val_acc: 0.9818 - val_mse: 0.0026\n",
      "Epoch 9/30\n",
      "235/235 [==============================] - 9s 38ms/step - loss: 0.0426 - acc: 0.9865 - mse: 0.0021 - val_loss: 0.0631 - val_acc: 0.9829 - val_mse: 0.0027\n",
      "Epoch 10/30\n",
      "235/235 [==============================] - 9s 38ms/step - loss: 0.0369 - acc: 0.9890 - mse: 0.0017 - val_loss: 0.0620 - val_acc: 0.9820 - val_mse: 0.0027\n",
      "Epoch 11/30\n",
      "235/235 [==============================] - 10s 40ms/step - loss: 0.0340 - acc: 0.9895 - mse: 0.0016 - val_loss: 0.0597 - val_acc: 0.9836 - val_mse: 0.0026\n",
      "Epoch 12/30\n",
      "235/235 [==============================] - 11s 45ms/step - loss: 0.0307 - acc: 0.9906 - mse: 0.0015 - val_loss: 0.0666 - val_acc: 0.9816 - val_mse: 0.0029\n",
      "Epoch 13/30\n",
      "235/235 [==============================] - 9s 39ms/step - loss: 0.0271 - acc: 0.9911 - mse: 0.0013 - val_loss: 0.0559 - val_acc: 0.9848 - val_mse: 0.0024\n",
      "Epoch 14/30\n",
      "235/235 [==============================] - 9s 39ms/step - loss: 0.0245 - acc: 0.9924 - mse: 0.0012 - val_loss: 0.0619 - val_acc: 0.9838 - val_mse: 0.0025\n",
      "Epoch 15/30\n",
      "235/235 [==============================] - 9s 39ms/step - loss: 0.0229 - acc: 0.9923 - mse: 0.0011 - val_loss: 0.0590 - val_acc: 0.9850 - val_mse: 0.0024\n",
      "Epoch 16/30\n",
      "235/235 [==============================] - 9s 40ms/step - loss: 0.0195 - acc: 0.9939 - mse: 9.6713e-04 - val_loss: 0.0700 - val_acc: 0.9836 - val_mse: 0.0026\n",
      "Epoch 17/30\n",
      "235/235 [==============================] - 9s 40ms/step - loss: 0.0188 - acc: 0.9939 - mse: 9.5308e-04 - val_loss: 0.0622 - val_acc: 0.9857 - val_mse: 0.0023\n",
      "Epoch 18/30\n",
      "235/235 [==============================] - 9s 39ms/step - loss: 0.0178 - acc: 0.9945 - mse: 8.8508e-04 - val_loss: 0.0667 - val_acc: 0.9829 - val_mse: 0.0026\n",
      "Epoch 19/30\n",
      "235/235 [==============================] - 11s 47ms/step - loss: 0.0167 - acc: 0.9946 - mse: 8.2859e-04 - val_loss: 0.0688 - val_acc: 0.9841 - val_mse: 0.0025\n",
      "Epoch 20/30\n",
      "235/235 [==============================] - 11s 45ms/step - loss: 0.0157 - acc: 0.9949 - mse: 7.9241e-04 - val_loss: 0.0673 - val_acc: 0.9844 - val_mse: 0.0024\n",
      "Epoch 21/30\n",
      "235/235 [==============================] - 10s 42ms/step - loss: 0.0137 - acc: 0.9954 - mse: 6.9739e-04 - val_loss: 0.0733 - val_acc: 0.9841 - val_mse: 0.0026\n",
      "Epoch 22/30\n",
      "235/235 [==============================] - 8s 33ms/step - loss: 0.0139 - acc: 0.9954 - mse: 7.2527e-04 - val_loss: 0.0665 - val_acc: 0.9850 - val_mse: 0.0024\n",
      "Epoch 23/30\n",
      "235/235 [==============================] - 8s 35ms/step - loss: 0.0120 - acc: 0.9962 - mse: 5.9761e-04 - val_loss: 0.0689 - val_acc: 0.9852 - val_mse: 0.0024\n",
      "Epoch 24/30\n",
      "235/235 [==============================] - 8s 33ms/step - loss: 0.0123 - acc: 0.9959 - mse: 6.2803e-04 - val_loss: 0.0712 - val_acc: 0.9848 - val_mse: 0.0025\n",
      "Epoch 25/30\n",
      "235/235 [==============================] - 8s 33ms/step - loss: 0.0116 - acc: 0.9965 - mse: 5.7092e-04 - val_loss: 0.0659 - val_acc: 0.9855 - val_mse: 0.0024\n",
      "Epoch 26/30\n",
      "235/235 [==============================] - 8s 35ms/step - loss: 0.0099 - acc: 0.9967 - mse: 4.8870e-04 - val_loss: 0.0706 - val_acc: 0.9856 - val_mse: 0.0024\n",
      "Epoch 27/30\n",
      "235/235 [==============================] - 9s 37ms/step - loss: 0.0103 - acc: 0.9968 - mse: 4.9935e-04 - val_loss: 0.0635 - val_acc: 0.9866 - val_mse: 0.0023\n",
      "Epoch 28/30\n",
      "235/235 [==============================] - 8s 33ms/step - loss: 0.0097 - acc: 0.9969 - mse: 4.8387e-04 - val_loss: 0.0713 - val_acc: 0.9854 - val_mse: 0.0024\n",
      "Epoch 29/30\n",
      "235/235 [==============================] - 8s 34ms/step - loss: 0.0080 - acc: 0.9975 - mse: 4.0431e-04 - val_loss: 0.0697 - val_acc: 0.9862 - val_mse: 0.0023\n",
      "Epoch 30/30\n",
      "235/235 [==============================] - 10s 42ms/step - loss: 0.0095 - acc: 0.9967 - mse: 4.9703e-04 - val_loss: 0.0687 - val_acc: 0.9860 - val_mse: 0.0023\n",
      "\n",
      "Elapsed Dense Model training time: 277.09385 seconds\n"
     ]
    }
   ],
   "source": [
    "start_time = time.time()\n",
    "history = model.fit(x_train, y_train, epochs=epochs, batch_size=batch_size, validation_data=(x_test, y_test), shuffle=True, verbose=1)\n",
    "end_time = time.time()\n",
    "print('\\nElapsed Dense Model training time: {:.5f} seconds'.format(end_time-start_time))"
   ]
  },
  {
   "cell_type": "markdown",
   "metadata": {},
   "source": [
    "## Evaluar el proceso de entrenamiento"
   ]
  },
  {
   "cell_type": "code",
   "execution_count": 28,
   "metadata": {},
   "outputs": [
    {
     "data": {
      "text/plain": [
       "dict_keys(['loss', 'acc', 'mse', 'val_loss', 'val_acc', 'val_mse'])"
      ]
     },
     "execution_count": 28,
     "metadata": {},
     "output_type": "execute_result"
    }
   ],
   "source": [
    "history.history.keys()"
   ]
  },
  {
   "cell_type": "code",
   "execution_count": 29,
   "metadata": {},
   "outputs": [
    {
     "data": {
      "image/png": "[encoded data removed]",
      "text/plain": [
       "<Figure size 720x720 with 1 Axes>"
      ]
     },
     "metadata": {
      "needs_background": "light"
     },
     "output_type": "display_data"
    }
   ],
   "source": [
    "f = plt.figure(figsize=(10,10))\n",
    "plt.plot(history.history['mse'], linewidth=3, label='Train MSE')\n",
    "plt.plot(history.history['val_mse'], linewidth=3, label='Val MSE')\n",
    "plt.xlabel('Epochs')\n",
    "plt.ylabel('MSE')\n",
    "plt.axis([0, 30, 0, 0.02])\n",
    "plt.legend(loc='upper right')\n",
    "plt.show()"
   ]
  },
  {
   "cell_type": "code",
   "execution_count": 30,
   "metadata": {},
   "outputs": [
    {
     "data": {
      "text/plain": [
       "<matplotlib.legend.Legend at 0x157405b4430>"
      ]
     },
     "execution_count": 30,
     "metadata": {},
     "output_type": "execute_result"
    },
    {
     "data": {
      "image/png": "[encoded data removed]",
      "text/plain": [
       "<Figure size 720x720 with 1 Axes>"
      ]
     },
     "metadata": {
      "needs_background": "light"
     },
     "output_type": "display_data"
    }
   ],
   "source": [
    "f = plt.figure(figsize=(10,10))\n",
    "plt.plot(history.history['acc'], linewidth=3, label='Train Accuracy')\n",
    "plt.plot(history.history['val_acc'], linewidth=3, label='Val Accuracy')\n",
    "plt.xlabel('Epochs')\n",
    "plt.ylabel('Accuracy')\n",
    "plt.axis([0, 30, 0.75, 1])\n",
    "plt.legend(loc='lower right')"
   ]
  },
  {
   "cell_type": "code",
   "execution_count": 31,
   "metadata": {},
   "outputs": [
    {
     "data": {
      "text/plain": [
       "<matplotlib.legend.Legend at 0x157405fbc10>"
      ]
     },
     "execution_count": 31,
     "metadata": {},
     "output_type": "execute_result"
    },
    {
     "data": {
      "image/png": "[encoded data removed]",
      "text/plain": [
       "<Figure size 720x720 with 1 Axes>"
      ]
     },
     "metadata": {
      "needs_background": "light"
     },
     "output_type": "display_data"
    }
   ],
   "source": [
    "f = plt.figure(figsize=(10,10))\n",
    "plt.plot(history.history['loss'], linewidth=3, label='Train loss')\n",
    "plt.plot(history.history['val_loss'], linewidth=3, label='Val loss')\n",
    "plt.xlabel('Epochs')\n",
    "plt.ylabel('Loss')\n",
    "plt.axis([0, 30, 0, 0.5])\n",
    "plt.legend(loc='upper right')"
   ]
  },
  {
   "cell_type": "markdown",
   "metadata": {},
   "source": [
    "## Predicciones sobre una imagen individual"
   ]
  },
  {
   "cell_type": "code",
   "execution_count": 35,
   "metadata": {},
   "outputs": [],
   "source": [
    "x_single_test = x_train[0] # primera imagen del dataset, visualizada arriba\n",
    "y_single_test = y_train[0] # primera etiqueta del dataset, visualizada arriba\n",
    "x_single_test.shape = (1, x_single_test.shape[0])\n",
    "y_single_test.shape = (1, y_single_test.shape[0])"
   ]
  },
  {
   "cell_type": "code",
   "execution_count": 36,
   "metadata": {},
   "outputs": [
    {
     "name": "stdout",
     "output_type": "stream",
     "text": [
      "1/1 [==============================] - 0s 14ms/step\n"
     ]
    },
    {
     "data": {
      "text/plain": [
       "array([[5.8686437e-21, 2.1974572e-21, 8.8459990e-24, 5.7204330e-09,\n",
       "        4.0823318e-25, 1.0000000e+00, 1.7756645e-19, 6.3803543e-19,\n",
       "        1.6003356e-18, 1.8310471e-13]], dtype=float32)"
      ]
     },
     "execution_count": 36,
     "metadata": {},
     "output_type": "execute_result"
    }
   ],
   "source": [
    "model.predict(x_single_test, verbose=1)\n",
    "\n",
    "#El 99,98% de que el valor se trata de un 5"
   ]
  },
  {
   "cell_type": "code",
   "execution_count": 34,
   "metadata": {},
   "outputs": [
    {
     "name": "stdout",
     "output_type": "stream",
     "text": [
      "1/1 [==============================] - 0s 35ms/step - loss: 0.0000e+00 - acc: 1.0000 - mse: 3.2723e-18\n"
     ]
    },
    {
     "data": {
      "text/plain": [
       "[0.0, 1.0, 3.2723353954513624e-18]"
      ]
     },
     "execution_count": 34,
     "metadata": {},
     "output_type": "execute_result"
    }
   ],
   "source": [
    "model.evaluate(x_single_test, y_single_test,verbose=1)"
   ]
  }
 ],
 "metadata": {
  "kernelspec": {
   "display_name": "Python 3",
   "language": "python",
   "name": "python3"
  },
  "language_info": {
   "codemirror_mode": {
    "name": "ipython",
    "version": 3
   },
   "file_extension": ".py",
   "mimetype": "text/x-python",
   "name": "python",
   "nbconvert_exporter": "python",
   "pygments_lexer": "ipython3",
   "version": "3.8.5"
  }
 },
 "nbformat": 4,
 "nbformat_minor": 4
}
