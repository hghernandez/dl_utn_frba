{
 "cells": [
  {
   "cell_type": "code",
   "execution_count": null,
   "metadata": {},
   "outputs": [],
   "source": [
    "import numpy as np\n",
    "\n",
    "result = np.array([6.5485013e-20, 2.0056958e-17, 1.3582812e-18, 7.1888717e-05,\n",
    "        7.4886932e-22, 9.9992812e-01, 1.2109652e-16, 1.4299703e-18,\n",
    "        7.5543841e-18, 9.6130211e-13]) # Esta es la predicción que arroja Keras\n",
    "\n",
    "A = result>0.9 # Umbral del 90% de probabilidad (True y False)\n",
    "A.astype(int) # Transformacion al tipo de dato entero (0 y 1)"
   ]
  }
 ],
 "metadata": {
  "kernelspec": {
   "display_name": "Python 3",
   "language": "python",
   "name": "python3"
  },
  "language_info": {
   "codemirror_mode": {
    "name": "ipython",
    "version": 3
   },
   "file_extension": ".py",
   "mimetype": "text/x-python",
   "name": "python",
   "nbconvert_exporter": "python",
   "pygments_lexer": "ipython3",
   "version": "3.8.5"
  }
 },
 "nbformat": 4,
 "nbformat_minor": 4
}
